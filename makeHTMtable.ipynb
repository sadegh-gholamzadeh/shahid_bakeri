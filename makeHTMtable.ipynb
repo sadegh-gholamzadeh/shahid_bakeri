{
 "cells": [
  {
   "cell_type": "code",
   "execution_count": 7,
   "metadata": {},
   "outputs": [],
   "source": [
    "import os\n",
    "import sys\n",
    "\n",
    "# Root directory of the project\n",
    "ROOT_DIR = os.path.abspath(\"./\")\n",
    "\n",
    "# Import Mask RCNN\n",
    "sys.path.append(ROOT_DIR)  # To find local version of the library\n",
    "\n",
    "# Directory to save logs and trained model\n",
    "IMAGE_DIR = \"'MehdiBakeri'\"\n",
    "\n",
    "file_names = next(os.walk(IMAGE_DIR))[2]\n",
    "strTable = 'mehdiBakeri \\n<br>'\n",
    "strTable = strTable+'<table  align=\"center\" border=\"1\">\\n'\n",
    "strRW = \"<tr><td> 'MehdiBakeri' </td></tr>\"\n",
    "strTable = strTable+strRW\n",
    "i = 1\n",
    "for j in range(10):\n",
    "    strRW = '<tr>'\n",
    "    for k in range(6):\n",
    "        strRW=strRW+'<td><img src= \"MehdiBakeri/' + file_names[i] + '\" width=\"300\">\"</td>'\n",
    "        i=i+1\n",
    "    strRW = strRW+\"</tr>\\n\"\n",
    "    strTable = strTable+strRW\n",
    "    \n",
    "       \n",
    "strTable = strTable+\"</table>\"\n",
    " \n",
    "hs = open(\"results.html\", 'w')\n",
    "hs.write(strTable)\n",
    "hs.close() \n",
    "\n",
    "hs = open(\"README.md\", 'w')\n",
    "hs.write(strTable)\n",
    "hs.close()"
   ]
  },
  {
   "cell_type": "code",
   "execution_count": null,
   "metadata": {},
   "outputs": [],
   "source": []
  },
  {
   "cell_type": "code",
   "execution_count": null,
   "metadata": {},
   "outputs": [],
   "source": []
  }
 ],
 "metadata": {
  "kernelspec": {
   "display_name": "Python 3",
   "language": "python",
   "name": "python3"
  },
  "language_info": {
   "codemirror_mode": {
    "name": "ipython",
    "version": 3
   },
   "file_extension": ".py",
   "mimetype": "text/x-python",
   "name": "python",
   "nbconvert_exporter": "python",
   "pygments_lexer": "ipython3",
   "version": "3.7.3"
  }
 },
 "nbformat": 4,
 "nbformat_minor": 4
}
